{
 "cells": [
  {
   "cell_type": "code",
   "execution_count": 1,
   "metadata": {},
   "outputs": [],
   "source": [
    "# Import Dependencies\n",
    "import pandas as pd\n",
    "pd.options.mode.chained_assignment = None\n",
    "from datetime import timedelta, date\n",
    "import numpy as np\n",
    "import matplotlib.pyplot as plt\n",
    "import requests as requests\n",
    "import time\n",
    "from scipy import stats \n",
    "#import linregress\n",
    "import json"
   ]
  },
  {
   "cell_type": "code",
   "execution_count": 2,
   "metadata": {},
   "outputs": [],
   "source": [
    "#CDC COVID-19 vaccination in the US url\n",
    "vax_url = \"https://data.cdc.gov/resource/8xkx-amqh\""
   ]
  },
  {
   "cell_type": "code",
   "execution_count": 3,
   "metadata": {},
   "outputs": [],
   "source": [
    "#request API and get json objects\n",
    "\n",
    "# vax_response = requests.get(vax_url).json()\n",
    "# vax_response"
   ]
  },
  {
   "cell_type": "code",
   "execution_count": 4,
   "metadata": {},
   "outputs": [],
   "source": [
    "# len(vax_response)"
   ]
  },
  {
   "cell_type": "code",
   "execution_count": 5,
   "metadata": {},
   "outputs": [],
   "source": [
    "# vax_url = \"https://data.cdc.gov/resource/8xkx-amqh\"\n",
    "# #request API and get json objects\n",
    "\n",
    "# # vax_response = requests.get(vax_url).json()\n",
    "# # vax_response\n",
    "\n",
    "# df=pd.read_json(\"https://data.cdc.gov/resource/8xkx-amqh.json?$limit=25000\")\n",
    "# ##df=pd.read_json(\"https://data.cdc.gov/resource/8xkx-amqh.json?$where=date_extract_y(date)<2021&$limit=25000\")\n"
   ]
  },
  {
   "cell_type": "code",
   "execution_count": 6,
   "metadata": {},
   "outputs": [],
   "source": [
    "# vax_response = requests.get(\"https://data.cdc.gov/resource/8xkx-amqh.json?$where=\"\n",
    "#                   \"(date_extract_y(date)%20%3C=%202021%20AND%20date_extract_m(date)%20%3C=9)\")\n",
    "# vax_response_json=vax_response.json()"
   ]
  },
  {
   "cell_type": "code",
   "execution_count": 7,
   "metadata": {},
   "outputs": [],
   "source": [
    "# # increasing the data rows to be pulled to a count\n",
    "# df = pd.read_json(\"https://data.cdc.gov/resource/8xkx-amqh.json?$where=\"\n",
    "#                  \"(date_extract_y(date)%20%3C=%202021%20AND%20date_extract_m(date)%20%3C=9)&$limit=25000\")"
   ]
  },
  {
   "cell_type": "code",
   "execution_count": 8,
   "metadata": {},
   "outputs": [],
   "source": [
    "#df.info()"
   ]
  },
  {
   "cell_type": "code",
   "execution_count": 9,
   "metadata": {},
   "outputs": [],
   "source": [
    "#new_df=df[[\"date\",\"recip_county\"]]\n"
   ]
  },
  {
   "cell_type": "code",
   "execution_count": 10,
   "metadata": {},
   "outputs": [],
   "source": [
    "#new_df.head()"
   ]
  },
  {
   "cell_type": "code",
   "execution_count": 11,
   "metadata": {},
   "outputs": [],
   "source": [
    "#CDC COVID-19 mortality rate in the US by age and sex url\n",
    "mort_url = \"https://data.cdc.gov/resource/9bhg-hcku\""
   ]
  },
  {
   "cell_type": "code",
   "execution_count": 12,
   "metadata": {},
   "outputs": [],
   "source": [
    "#Data frame of the CDC COVID-19 mortality rate in the US by age and sex as of 09/30/2021\n",
    "#df_mort = pd.read_json(\"https://data.cdc.gov/resource/9bhg-hcku.json?$where=\"\n",
    "#                  \"(date_extract_y(end_date)%20%3C=%202021%20AND%20date_extract_m(end_date)%20%3C=9)&$limit=500000\")"
   ]
  },
  {
   "cell_type": "code",
   "execution_count": 13,
   "metadata": {},
   "outputs": [],
   "source": [
    "df_mort = pd.read_json(\"https://data.cdc.gov/resource/9bhg-hcku.json?$limit=1000000\")\n",
    "                "
   ]
  },
  {
   "cell_type": "code",
   "execution_count": 14,
   "metadata": {},
   "outputs": [
    {
     "data": {
      "text/plain": [
       "68850"
      ]
     },
     "execution_count": 14,
     "metadata": {},
     "output_type": "execute_result"
    }
   ],
   "source": [
    "len(df_mort)"
   ]
  },
  {
   "cell_type": "code",
   "execution_count": 15,
   "metadata": {},
   "outputs": [
    {
     "data": {
      "text/plain": [
       "data_as_of                                                 2021-10-20T00:00:00.000\n",
       "start_date                                                 2020-01-01T00:00:00.000\n",
       "end_date                                                   2021-10-16T00:00:00.000\n",
       "group                                                                     By Total\n",
       "state                                                         District of Columbia\n",
       "sex                                                                         Female\n",
       "age_group                                                              25-34 years\n",
       "covid_19_deaths                                                                NaN\n",
       "total_deaths                                                                 116.0\n",
       "pneumonia_deaths                                                              10.0\n",
       "pneumonia_and_covid_19_deaths                                                  NaN\n",
       "influenza_deaths                                                               0.0\n",
       "pneumonia_influenza_or_covid                                                  12.0\n",
       "footnote                         One or more data cells have counts between 1-9...\n",
       "year                                                                           NaN\n",
       "month                                                                          NaN\n",
       "Name: 500, dtype: object"
      ]
     },
     "execution_count": 15,
     "metadata": {},
     "output_type": "execute_result"
    }
   ],
   "source": [
    "# Displaying one record \n",
    "df_mort.iloc[500]"
   ]
  },
  {
   "cell_type": "code",
   "execution_count": 16,
   "metadata": {},
   "outputs": [],
   "source": [
    "#data frame with required fields\n",
    "new_df=df_mort[[\"group\",\"year\",\"month\",\"state\",\"sex\",\"age_group\",\"covid_19_deaths\",\n",
    "                \"total_deaths\"]]\n",
    "pd.options.display.float_format = \"{:.0f}\".format"
   ]
  },
  {
   "cell_type": "code",
   "execution_count": 17,
   "metadata": {},
   "outputs": [
    {
     "data": {
      "text/html": [
       "<div>\n",
       "<style scoped>\n",
       "    .dataframe tbody tr th:only-of-type {\n",
       "        vertical-align: middle;\n",
       "    }\n",
       "\n",
       "    .dataframe tbody tr th {\n",
       "        vertical-align: top;\n",
       "    }\n",
       "\n",
       "    .dataframe thead th {\n",
       "        text-align: right;\n",
       "    }\n",
       "</style>\n",
       "<table border=\"1\" class=\"dataframe\">\n",
       "  <thead>\n",
       "    <tr style=\"text-align: right;\">\n",
       "      <th></th>\n",
       "      <th>group</th>\n",
       "      <th>year</th>\n",
       "      <th>month</th>\n",
       "      <th>state</th>\n",
       "      <th>sex</th>\n",
       "      <th>age_group</th>\n",
       "      <th>covid_19_deaths</th>\n",
       "      <th>total_deaths</th>\n",
       "    </tr>\n",
       "  </thead>\n",
       "  <tbody>\n",
       "    <tr>\n",
       "      <th>0</th>\n",
       "      <td>By Total</td>\n",
       "      <td>NaN</td>\n",
       "      <td>NaN</td>\n",
       "      <td>United States</td>\n",
       "      <td>All Sexes</td>\n",
       "      <td>All Ages</td>\n",
       "      <td>723880</td>\n",
       "      <td>5928410</td>\n",
       "    </tr>\n",
       "    <tr>\n",
       "      <th>1</th>\n",
       "      <td>By Total</td>\n",
       "      <td>NaN</td>\n",
       "      <td>NaN</td>\n",
       "      <td>United States</td>\n",
       "      <td>All Sexes</td>\n",
       "      <td>Under 1 year</td>\n",
       "      <td>132</td>\n",
       "      <td>33432</td>\n",
       "    </tr>\n",
       "    <tr>\n",
       "      <th>2</th>\n",
       "      <td>By Total</td>\n",
       "      <td>NaN</td>\n",
       "      <td>NaN</td>\n",
       "      <td>United States</td>\n",
       "      <td>All Sexes</td>\n",
       "      <td>0-17 years</td>\n",
       "      <td>542</td>\n",
       "      <td>59268</td>\n",
       "    </tr>\n",
       "    <tr>\n",
       "      <th>3</th>\n",
       "      <td>By Total</td>\n",
       "      <td>NaN</td>\n",
       "      <td>NaN</td>\n",
       "      <td>United States</td>\n",
       "      <td>All Sexes</td>\n",
       "      <td>1-4 years</td>\n",
       "      <td>63</td>\n",
       "      <td>6236</td>\n",
       "    </tr>\n",
       "    <tr>\n",
       "      <th>4</th>\n",
       "      <td>By Total</td>\n",
       "      <td>NaN</td>\n",
       "      <td>NaN</td>\n",
       "      <td>United States</td>\n",
       "      <td>All Sexes</td>\n",
       "      <td>5-14 years</td>\n",
       "      <td>172</td>\n",
       "      <td>9911</td>\n",
       "    </tr>\n",
       "    <tr>\n",
       "      <th>...</th>\n",
       "      <td>...</td>\n",
       "      <td>...</td>\n",
       "      <td>...</td>\n",
       "      <td>...</td>\n",
       "      <td>...</td>\n",
       "      <td>...</td>\n",
       "      <td>...</td>\n",
       "      <td>...</td>\n",
       "    </tr>\n",
       "    <tr>\n",
       "      <th>68845</th>\n",
       "      <td>By Month</td>\n",
       "      <td>2021</td>\n",
       "      <td>10</td>\n",
       "      <td>Puerto Rico</td>\n",
       "      <td>Female</td>\n",
       "      <td>50-64 years</td>\n",
       "      <td>NaN</td>\n",
       "      <td>21</td>\n",
       "    </tr>\n",
       "    <tr>\n",
       "      <th>68846</th>\n",
       "      <td>By Month</td>\n",
       "      <td>2021</td>\n",
       "      <td>10</td>\n",
       "      <td>Puerto Rico</td>\n",
       "      <td>Female</td>\n",
       "      <td>55-64 years</td>\n",
       "      <td>NaN</td>\n",
       "      <td>17</td>\n",
       "    </tr>\n",
       "    <tr>\n",
       "      <th>68847</th>\n",
       "      <td>By Month</td>\n",
       "      <td>2021</td>\n",
       "      <td>10</td>\n",
       "      <td>Puerto Rico</td>\n",
       "      <td>Female</td>\n",
       "      <td>65-74 years</td>\n",
       "      <td>NaN</td>\n",
       "      <td>19</td>\n",
       "    </tr>\n",
       "    <tr>\n",
       "      <th>68848</th>\n",
       "      <td>By Month</td>\n",
       "      <td>2021</td>\n",
       "      <td>10</td>\n",
       "      <td>Puerto Rico</td>\n",
       "      <td>Female</td>\n",
       "      <td>75-84 years</td>\n",
       "      <td>NaN</td>\n",
       "      <td>29</td>\n",
       "    </tr>\n",
       "    <tr>\n",
       "      <th>68849</th>\n",
       "      <td>By Month</td>\n",
       "      <td>2021</td>\n",
       "      <td>10</td>\n",
       "      <td>Puerto Rico</td>\n",
       "      <td>Female</td>\n",
       "      <td>85 years and over</td>\n",
       "      <td>NaN</td>\n",
       "      <td>38</td>\n",
       "    </tr>\n",
       "  </tbody>\n",
       "</table>\n",
       "<p>68850 rows × 8 columns</p>\n",
       "</div>"
      ],
      "text/plain": [
       "          group  year  month          state        sex          age_group  \\\n",
       "0      By Total   NaN    NaN  United States  All Sexes           All Ages   \n",
       "1      By Total   NaN    NaN  United States  All Sexes       Under 1 year   \n",
       "2      By Total   NaN    NaN  United States  All Sexes         0-17 years   \n",
       "3      By Total   NaN    NaN  United States  All Sexes          1-4 years   \n",
       "4      By Total   NaN    NaN  United States  All Sexes         5-14 years   \n",
       "...         ...   ...    ...            ...        ...                ...   \n",
       "68845  By Month  2021     10    Puerto Rico     Female        50-64 years   \n",
       "68846  By Month  2021     10    Puerto Rico     Female        55-64 years   \n",
       "68847  By Month  2021     10    Puerto Rico     Female        65-74 years   \n",
       "68848  By Month  2021     10    Puerto Rico     Female        75-84 years   \n",
       "68849  By Month  2021     10    Puerto Rico     Female  85 years and over   \n",
       "\n",
       "       covid_19_deaths  total_deaths  \n",
       "0               723880       5928410  \n",
       "1                  132         33432  \n",
       "2                  542         59268  \n",
       "3                   63          6236  \n",
       "4                  172          9911  \n",
       "...                ...           ...  \n",
       "68845              NaN            21  \n",
       "68846              NaN            17  \n",
       "68847              NaN            19  \n",
       "68848              NaN            29  \n",
       "68849              NaN            38  \n",
       "\n",
       "[68850 rows x 8 columns]"
      ]
     },
     "execution_count": 17,
     "metadata": {},
     "output_type": "execute_result"
    }
   ],
   "source": [
    "new_df"
   ]
  },
  {
   "cell_type": "code",
   "execution_count": 18,
   "metadata": {},
   "outputs": [],
   "source": [
    "new_df.drop(new_df.loc[(new_df[\"month\"] == 10)&(new_df[\"year\"] == 2021)].index, inplace=True)"
   ]
  },
  {
   "cell_type": "code",
   "execution_count": 19,
   "metadata": {},
   "outputs": [],
   "source": [
    "#Dropping data for age_groups -\"Under 1 year\", \"1-4 years\", \"All Ages\",\"5-14 years\",\"15-24 years\"\n",
    "# and \"25-34 years\" , \"35-44 years\",  \"45-54 years\",  \"55-64 years\"\n",
    "\n",
    "new_df.drop(new_df.loc[new_df[\"age_group\"]==\"Under 1 year\"].index, inplace=True)\n",
    "\n",
    "new_df.drop(new_df.loc[new_df[\"age_group\"]==\"1-4 years\"].index, inplace=True)\n",
    "\n",
    "new_df.drop(new_df.loc[new_df[\"age_group\"]==\"All Ages\"].index, inplace=True)\n",
    "\n",
    "new_df.drop(new_df.loc[new_df[\"age_group\"]==\"5-14 years\"].index, inplace=True)\n",
    "\n",
    "new_df.drop(new_df.loc[new_df[\"age_group\"]==\"15-24 years\"].index, inplace=True)\n",
    "\n",
    "\n",
    "new_df.drop(new_df.loc[new_df[\"age_group\"]==\"25-34 years\"].index, inplace=True)\n",
    "new_df.drop(new_df.loc[new_df[\"age_group\"]==\"35-44 years\"].index, inplace=True)\n",
    "new_df.drop(new_df.loc[new_df[\"age_group\"]==\"45-54 years\"].index, inplace=True) \n",
    "new_df.drop(new_df.loc[new_df[\"age_group\"]==\"55-64 years\"].index, inplace=True)\n",
    "new_df.drop(new_df.loc[new_df[\"state\"]==\"United States\"].index, inplace=True)\n",
    "\n"
   ]
  },
  {
   "cell_type": "code",
   "execution_count": 20,
   "metadata": {},
   "outputs": [
    {
     "data": {
      "text/plain": [
       "array(['0-17 years', '18-29 years', '30-39 years', '40-49 years',\n",
       "       '50-64 years', '65-74 years', '75-84 years', '85 years and over'],\n",
       "      dtype=object)"
      ]
     },
     "execution_count": 20,
     "metadata": {},
     "output_type": "execute_result"
    }
   ],
   "source": [
    "new_df[\"age_group\"].unique()"
   ]
  },
  {
   "cell_type": "code",
   "execution_count": 21,
   "metadata": {},
   "outputs": [
    {
     "data": {
      "text/html": [
       "<div>\n",
       "<style scoped>\n",
       "    .dataframe tbody tr th:only-of-type {\n",
       "        vertical-align: middle;\n",
       "    }\n",
       "\n",
       "    .dataframe tbody tr th {\n",
       "        vertical-align: top;\n",
       "    }\n",
       "\n",
       "    .dataframe thead th {\n",
       "        text-align: right;\n",
       "    }\n",
       "</style>\n",
       "<table border=\"1\" class=\"dataframe\">\n",
       "  <thead>\n",
       "    <tr style=\"text-align: right;\">\n",
       "      <th></th>\n",
       "      <th>index</th>\n",
       "      <th>group</th>\n",
       "      <th>year</th>\n",
       "      <th>month</th>\n",
       "      <th>state</th>\n",
       "      <th>sex</th>\n",
       "      <th>age_group</th>\n",
       "      <th>covid_19_deaths</th>\n",
       "      <th>total_deaths</th>\n",
       "    </tr>\n",
       "  </thead>\n",
       "  <tbody>\n",
       "    <tr>\n",
       "      <th>0</th>\n",
       "      <td>53</td>\n",
       "      <td>By Total</td>\n",
       "      <td>NaN</td>\n",
       "      <td>NaN</td>\n",
       "      <td>Alabama</td>\n",
       "      <td>All Sexes</td>\n",
       "      <td>0-17 years</td>\n",
       "      <td>NaN</td>\n",
       "      <td>1270</td>\n",
       "    </tr>\n",
       "    <tr>\n",
       "      <th>1</th>\n",
       "      <td>57</td>\n",
       "      <td>By Total</td>\n",
       "      <td>NaN</td>\n",
       "      <td>NaN</td>\n",
       "      <td>Alabama</td>\n",
       "      <td>All Sexes</td>\n",
       "      <td>18-29 years</td>\n",
       "      <td>97</td>\n",
       "      <td>2197</td>\n",
       "    </tr>\n",
       "    <tr>\n",
       "      <th>2</th>\n",
       "      <td>59</td>\n",
       "      <td>By Total</td>\n",
       "      <td>NaN</td>\n",
       "      <td>NaN</td>\n",
       "      <td>Alabama</td>\n",
       "      <td>All Sexes</td>\n",
       "      <td>30-39 years</td>\n",
       "      <td>290</td>\n",
       "      <td>3219</td>\n",
       "    </tr>\n",
       "    <tr>\n",
       "      <th>3</th>\n",
       "      <td>61</td>\n",
       "      <td>By Total</td>\n",
       "      <td>NaN</td>\n",
       "      <td>NaN</td>\n",
       "      <td>Alabama</td>\n",
       "      <td>All Sexes</td>\n",
       "      <td>40-49 years</td>\n",
       "      <td>752</td>\n",
       "      <td>5485</td>\n",
       "    </tr>\n",
       "    <tr>\n",
       "      <th>4</th>\n",
       "      <td>63</td>\n",
       "      <td>By Total</td>\n",
       "      <td>NaN</td>\n",
       "      <td>NaN</td>\n",
       "      <td>Alabama</td>\n",
       "      <td>All Sexes</td>\n",
       "      <td>50-64 years</td>\n",
       "      <td>3167</td>\n",
       "      <td>21930</td>\n",
       "    </tr>\n",
       "    <tr>\n",
       "      <th>...</th>\n",
       "      <td>...</td>\n",
       "      <td>...</td>\n",
       "      <td>...</td>\n",
       "      <td>...</td>\n",
       "      <td>...</td>\n",
       "      <td>...</td>\n",
       "      <td>...</td>\n",
       "      <td>...</td>\n",
       "      <td>...</td>\n",
       "    </tr>\n",
       "    <tr>\n",
       "      <th>30523</th>\n",
       "      <td>68792</td>\n",
       "      <td>By Month</td>\n",
       "      <td>2021</td>\n",
       "      <td>9</td>\n",
       "      <td>Puerto Rico</td>\n",
       "      <td>Female</td>\n",
       "      <td>40-49 years</td>\n",
       "      <td>NaN</td>\n",
       "      <td>27</td>\n",
       "    </tr>\n",
       "    <tr>\n",
       "      <th>30524</th>\n",
       "      <td>68794</td>\n",
       "      <td>By Month</td>\n",
       "      <td>2021</td>\n",
       "      <td>9</td>\n",
       "      <td>Puerto Rico</td>\n",
       "      <td>Female</td>\n",
       "      <td>50-64 years</td>\n",
       "      <td>30</td>\n",
       "      <td>124</td>\n",
       "    </tr>\n",
       "    <tr>\n",
       "      <th>30525</th>\n",
       "      <td>68796</td>\n",
       "      <td>By Month</td>\n",
       "      <td>2021</td>\n",
       "      <td>9</td>\n",
       "      <td>Puerto Rico</td>\n",
       "      <td>Female</td>\n",
       "      <td>65-74 years</td>\n",
       "      <td>25</td>\n",
       "      <td>180</td>\n",
       "    </tr>\n",
       "    <tr>\n",
       "      <th>30526</th>\n",
       "      <td>68797</td>\n",
       "      <td>By Month</td>\n",
       "      <td>2021</td>\n",
       "      <td>9</td>\n",
       "      <td>Puerto Rico</td>\n",
       "      <td>Female</td>\n",
       "      <td>75-84 years</td>\n",
       "      <td>27</td>\n",
       "      <td>297</td>\n",
       "    </tr>\n",
       "    <tr>\n",
       "      <th>30527</th>\n",
       "      <td>68798</td>\n",
       "      <td>By Month</td>\n",
       "      <td>2021</td>\n",
       "      <td>9</td>\n",
       "      <td>Puerto Rico</td>\n",
       "      <td>Female</td>\n",
       "      <td>85 years and over</td>\n",
       "      <td>17</td>\n",
       "      <td>398</td>\n",
       "    </tr>\n",
       "  </tbody>\n",
       "</table>\n",
       "<p>30528 rows × 9 columns</p>\n",
       "</div>"
      ],
      "text/plain": [
       "       index     group  year  month        state        sex  \\\n",
       "0         53  By Total   NaN    NaN      Alabama  All Sexes   \n",
       "1         57  By Total   NaN    NaN      Alabama  All Sexes   \n",
       "2         59  By Total   NaN    NaN      Alabama  All Sexes   \n",
       "3         61  By Total   NaN    NaN      Alabama  All Sexes   \n",
       "4         63  By Total   NaN    NaN      Alabama  All Sexes   \n",
       "...      ...       ...   ...    ...          ...        ...   \n",
       "30523  68792  By Month  2021      9  Puerto Rico     Female   \n",
       "30524  68794  By Month  2021      9  Puerto Rico     Female   \n",
       "30525  68796  By Month  2021      9  Puerto Rico     Female   \n",
       "30526  68797  By Month  2021      9  Puerto Rico     Female   \n",
       "30527  68798  By Month  2021      9  Puerto Rico     Female   \n",
       "\n",
       "               age_group  covid_19_deaths  total_deaths  \n",
       "0             0-17 years              NaN          1270  \n",
       "1            18-29 years               97          2197  \n",
       "2            30-39 years              290          3219  \n",
       "3            40-49 years              752          5485  \n",
       "4            50-64 years             3167         21930  \n",
       "...                  ...              ...           ...  \n",
       "30523        40-49 years              NaN            27  \n",
       "30524        50-64 years               30           124  \n",
       "30525        65-74 years               25           180  \n",
       "30526        75-84 years               27           297  \n",
       "30527  85 years and over               17           398  \n",
       "\n",
       "[30528 rows x 9 columns]"
      ]
     },
     "execution_count": 21,
     "metadata": {},
     "output_type": "execute_result"
    }
   ],
   "source": [
    "new_df.reset_index()"
   ]
  },
  {
   "cell_type": "code",
   "execution_count": 22,
   "metadata": {},
   "outputs": [],
   "source": [
    "# Mortality rate Vs Gender  - Data for Pie Chart\n",
    "gender_df=new_df.groupby(by=[\"sex\"]).sum()\n",
    "gender_df = gender_df.drop(\"year\",1)\n",
    "gender_df = gender_df.drop(\"month\",1)\n",
    "update_df = gender_df.drop('All Sexes')\n",
    "\n"
   ]
  },
  {
   "cell_type": "code",
   "execution_count": 23,
   "metadata": {},
   "outputs": [
    {
     "data": {
      "text/html": [
       "<div>\n",
       "<style scoped>\n",
       "    .dataframe tbody tr th:only-of-type {\n",
       "        vertical-align: middle;\n",
       "    }\n",
       "\n",
       "    .dataframe tbody tr th {\n",
       "        vertical-align: top;\n",
       "    }\n",
       "\n",
       "    .dataframe thead th {\n",
       "        text-align: right;\n",
       "    }\n",
       "</style>\n",
       "<table border=\"1\" class=\"dataframe\">\n",
       "  <thead>\n",
       "    <tr style=\"text-align: right;\">\n",
       "      <th></th>\n",
       "      <th>covid_19_deaths</th>\n",
       "      <th>total_deaths</th>\n",
       "    </tr>\n",
       "    <tr>\n",
       "      <th>sex</th>\n",
       "      <th></th>\n",
       "      <th></th>\n",
       "    </tr>\n",
       "  </thead>\n",
       "  <tbody>\n",
       "    <tr>\n",
       "      <th>Female</th>\n",
       "      <td>965456</td>\n",
       "      <td>8470478</td>\n",
       "    </tr>\n",
       "    <tr>\n",
       "      <th>Male</th>\n",
       "      <td>1187454</td>\n",
       "      <td>9426288</td>\n",
       "    </tr>\n",
       "  </tbody>\n",
       "</table>\n",
       "</div>"
      ],
      "text/plain": [
       "        covid_19_deaths  total_deaths\n",
       "sex                                  \n",
       "Female           965456       8470478\n",
       "Male            1187454       9426288"
      ]
     },
     "execution_count": 23,
     "metadata": {},
     "output_type": "execute_result"
    }
   ],
   "source": [
    "update_df"
   ]
  },
  {
   "cell_type": "code",
   "execution_count": 24,
   "metadata": {},
   "outputs": [
    {
     "data": {
      "image/png": "[encoded data removed]",
      "text/plain": [
       "<Figure size 504x504 with 1 Axes>"
      ]
     },
     "metadata": {},
     "output_type": "display_data"
    }
   ],
   "source": [
    "labels = \"Females\", \"Male\"\n",
    "sizes=update_df[\"covid_19_deaths\"]\n",
    "#plt.pie(sizes,labels=labels);\n",
    "#plt.title(\"Mortality Rate by Gender\");\n",
    "#plt.show()\n",
    "plot = update_df.plot.pie(y='covid_19_deaths', figsize=(7, 7), title=\"Mortality Rate by Gender\")\n",
    "plt.savefig(\"/Users/karlarobles/Desktop/DataViz/DataViz/Project-1-MKFG/mkfg_figures/Mortalityratebygender.png\")\n",
    "        "
   ]
  },
  {
   "cell_type": "code",
   "execution_count": 27,
   "metadata": {},
   "outputs": [
    {
     "data": {
      "text/html": [
       "<div>\n",
       "<style scoped>\n",
       "    .dataframe tbody tr th:only-of-type {\n",
       "        vertical-align: middle;\n",
       "    }\n",
       "\n",
       "    .dataframe tbody tr th {\n",
       "        vertical-align: top;\n",
       "    }\n",
       "\n",
       "    .dataframe thead th {\n",
       "        text-align: right;\n",
       "    }\n",
       "</style>\n",
       "<table border=\"1\" class=\"dataframe\">\n",
       "  <thead>\n",
       "    <tr style=\"text-align: right;\">\n",
       "      <th></th>\n",
       "      <th>covid_19_deaths</th>\n",
       "      <th>total_deaths</th>\n",
       "    </tr>\n",
       "    <tr>\n",
       "      <th>age_group</th>\n",
       "      <th></th>\n",
       "      <th></th>\n",
       "    </tr>\n",
       "  </thead>\n",
       "  <tbody>\n",
       "    <tr>\n",
       "      <th>0-17 years</th>\n",
       "      <td>1256</td>\n",
       "      <td>353138</td>\n",
       "    </tr>\n",
       "    <tr>\n",
       "      <th>18-29 years</th>\n",
       "      <td>19536</td>\n",
       "      <td>679629</td>\n",
       "    </tr>\n",
       "    <tr>\n",
       "      <th>30-39 years</th>\n",
       "      <td>64338</td>\n",
       "      <td>987094</td>\n",
       "    </tr>\n",
       "    <tr>\n",
       "      <th>40-49 years</th>\n",
       "      <td>168517</td>\n",
       "      <td>1478254</td>\n",
       "    </tr>\n",
       "    <tr>\n",
       "      <th>50-64 years</th>\n",
       "      <td>770258</td>\n",
       "      <td>6030942</td>\n",
       "    </tr>\n",
       "    <tr>\n",
       "      <th>65-74 years</th>\n",
       "      <td>977642</td>\n",
       "      <td>7277712</td>\n",
       "    </tr>\n",
       "    <tr>\n",
       "      <th>75-84 years</th>\n",
       "      <td>1137455</td>\n",
       "      <td>8660464</td>\n",
       "    </tr>\n",
       "    <tr>\n",
       "      <th>85 years and over</th>\n",
       "      <td>1177960</td>\n",
       "      <td>10333020</td>\n",
       "    </tr>\n",
       "  </tbody>\n",
       "</table>\n",
       "</div>"
      ],
      "text/plain": [
       "                   covid_19_deaths  total_deaths\n",
       "age_group                                       \n",
       "0-17 years                    1256        353138\n",
       "18-29 years                  19536        679629\n",
       "30-39 years                  64338        987094\n",
       "40-49 years                 168517       1478254\n",
       "50-64 years                 770258       6030942\n",
       "65-74 years                 977642       7277712\n",
       "75-84 years                1137455       8660464\n",
       "85 years and over          1177960      10333020"
      ]
     },
     "execution_count": 27,
     "metadata": {},
     "output_type": "execute_result"
    }
   ],
   "source": [
    "#Mortality rate by age group - Data for scatter plot\n",
    "\n",
    "age_group_df=new_df.groupby(by=[\"age_group\"]).sum()\n",
    "age_group_df = age_group_df.drop(\"year\",1)\n",
    "age_group_df = age_group_df.drop(\"month\",1)\n",
    "covid_19_deaths_sum = age_group_df[\"covid_19_deaths\"].sum()\n",
    "total_deaths_sum = age_group_df[\"total_deaths\"]\n",
    "\n",
    "covid_19_deaths_sum = age_group_df[\"covid_19_deaths\"].sum()\n",
    "\n",
    "age_group_df"
   ]
  },
  {
   "cell_type": "code",
   "execution_count": 26,
   "metadata": {},
   "outputs": [
    {
     "ename": "KeyError",
     "evalue": "'generation'",
     "output_type": "error",
     "traceback": [
      "\u001b[0;31m---------------------------------------------------------------------------\u001b[0m",
      "\u001b[0;31mKeyError\u001b[0m                                  Traceback (most recent call last)",
      "\u001b[0;32m~/opt/anaconda3/lib/python3.8/site-packages/pandas/core/indexes/base.py\u001b[0m in \u001b[0;36mget_loc\u001b[0;34m(self, key, method, tolerance)\u001b[0m\n\u001b[1;32m   3079\u001b[0m             \u001b[0;32mtry\u001b[0m\u001b[0;34m:\u001b[0m\u001b[0;34m\u001b[0m\u001b[0;34m\u001b[0m\u001b[0m\n\u001b[0;32m-> 3080\u001b[0;31m                 \u001b[0;32mreturn\u001b[0m \u001b[0mself\u001b[0m\u001b[0;34m.\u001b[0m\u001b[0m_engine\u001b[0m\u001b[0;34m.\u001b[0m\u001b[0mget_loc\u001b[0m\u001b[0;34m(\u001b[0m\u001b[0mcasted_key\u001b[0m\u001b[0;34m)\u001b[0m\u001b[0;34m\u001b[0m\u001b[0;34m\u001b[0m\u001b[0m\n\u001b[0m\u001b[1;32m   3081\u001b[0m             \u001b[0;32mexcept\u001b[0m \u001b[0mKeyError\u001b[0m \u001b[0;32mas\u001b[0m \u001b[0merr\u001b[0m\u001b[0;34m:\u001b[0m\u001b[0;34m\u001b[0m\u001b[0;34m\u001b[0m\u001b[0m\n",
      "\u001b[0;32mpandas/_libs/index.pyx\u001b[0m in \u001b[0;36mpandas._libs.index.IndexEngine.get_loc\u001b[0;34m()\u001b[0m\n",
      "\u001b[0;32mpandas/_libs/index.pyx\u001b[0m in \u001b[0;36mpandas._libs.index.IndexEngine.get_loc\u001b[0;34m()\u001b[0m\n",
      "\u001b[0;32mpandas/_libs/hashtable_class_helper.pxi\u001b[0m in \u001b[0;36mpandas._libs.hashtable.PyObjectHashTable.get_item\u001b[0;34m()\u001b[0m\n",
      "\u001b[0;32mpandas/_libs/hashtable_class_helper.pxi\u001b[0m in \u001b[0;36mpandas._libs.hashtable.PyObjectHashTable.get_item\u001b[0;34m()\u001b[0m\n",
      "\u001b[0;31mKeyError\u001b[0m: 'generation'",
      "\nThe above exception was the direct cause of the following exception:\n",
      "\u001b[0;31mKeyError\u001b[0m                                  Traceback (most recent call last)",
      "\u001b[0;32m<ipython-input-26-37938101f828>\u001b[0m in \u001b[0;36m<module>\u001b[0;34m\u001b[0m\n\u001b[0;32m----> 1\u001b[0;31m \u001b[0mg1\u001b[0m \u001b[0;34m=\u001b[0m \u001b[0mage_group_df\u001b[0m\u001b[0;34m.\u001b[0m\u001b[0mloc\u001b[0m\u001b[0;34m[\u001b[0m\u001b[0mage_group_df\u001b[0m\u001b[0;34m[\u001b[0m\u001b[0;34m\"generation\"\u001b[0m\u001b[0;34m]\u001b[0m\u001b[0;34m==\u001b[0m\u001b[0;36m1\u001b[0m\u001b[0;34m,\u001b[0m\u001b[0;34m:\u001b[0m\u001b[0;34m]\u001b[0m\u001b[0;34m\u001b[0m\u001b[0;34m\u001b[0m\u001b[0m\n\u001b[0m\u001b[1;32m      2\u001b[0m \u001b[0;31m# dataframe.plot.scatter() method\u001b[0m\u001b[0;34m\u001b[0m\u001b[0;34m\u001b[0m\u001b[0;34m\u001b[0m\u001b[0m\n\u001b[1;32m      3\u001b[0m \u001b[0mg1\u001b[0m\u001b[0;34m.\u001b[0m\u001b[0mplot\u001b[0m\u001b[0;34m.\u001b[0m\u001b[0mscatter\u001b[0m\u001b[0;34m(\u001b[0m\u001b[0;34m'age_group'\u001b[0m\u001b[0;34m,\u001b[0m \u001b[0;34m'covid_19_deaths'\u001b[0m\u001b[0;34m)\u001b[0m\u001b[0;34m;\u001b[0m\u001b[0;34m\u001b[0m\u001b[0;34m\u001b[0m\u001b[0m\n\u001b[1;32m      4\u001b[0m \u001b[0;31m#x =age_group_df\u001b[0m\u001b[0;34m\u001b[0m\u001b[0;34m\u001b[0m\u001b[0;34m\u001b[0m\u001b[0m\n\u001b[1;32m      5\u001b[0m \u001b[0;31m#y =\u001b[0m\u001b[0;34m\u001b[0m\u001b[0;34m\u001b[0m\u001b[0;34m\u001b[0m\u001b[0m\n",
      "\u001b[0;32m~/opt/anaconda3/lib/python3.8/site-packages/pandas/core/frame.py\u001b[0m in \u001b[0;36m__getitem__\u001b[0;34m(self, key)\u001b[0m\n\u001b[1;32m   3022\u001b[0m             \u001b[0;32mif\u001b[0m \u001b[0mself\u001b[0m\u001b[0;34m.\u001b[0m\u001b[0mcolumns\u001b[0m\u001b[0;34m.\u001b[0m\u001b[0mnlevels\u001b[0m \u001b[0;34m>\u001b[0m \u001b[0;36m1\u001b[0m\u001b[0;34m:\u001b[0m\u001b[0;34m\u001b[0m\u001b[0;34m\u001b[0m\u001b[0m\n\u001b[1;32m   3023\u001b[0m                 \u001b[0;32mreturn\u001b[0m \u001b[0mself\u001b[0m\u001b[0;34m.\u001b[0m\u001b[0m_getitem_multilevel\u001b[0m\u001b[0;34m(\u001b[0m\u001b[0mkey\u001b[0m\u001b[0;34m)\u001b[0m\u001b[0;34m\u001b[0m\u001b[0;34m\u001b[0m\u001b[0m\n\u001b[0;32m-> 3024\u001b[0;31m             \u001b[0mindexer\u001b[0m \u001b[0;34m=\u001b[0m \u001b[0mself\u001b[0m\u001b[0;34m.\u001b[0m\u001b[0mcolumns\u001b[0m\u001b[0;34m.\u001b[0m\u001b[0mget_loc\u001b[0m\u001b[0;34m(\u001b[0m\u001b[0mkey\u001b[0m\u001b[0;34m)\u001b[0m\u001b[0;34m\u001b[0m\u001b[0;34m\u001b[0m\u001b[0m\n\u001b[0m\u001b[1;32m   3025\u001b[0m             \u001b[0;32mif\u001b[0m \u001b[0mis_integer\u001b[0m\u001b[0;34m(\u001b[0m\u001b[0mindexer\u001b[0m\u001b[0;34m)\u001b[0m\u001b[0;34m:\u001b[0m\u001b[0;34m\u001b[0m\u001b[0;34m\u001b[0m\u001b[0m\n\u001b[1;32m   3026\u001b[0m                 \u001b[0mindexer\u001b[0m \u001b[0;34m=\u001b[0m \u001b[0;34m[\u001b[0m\u001b[0mindexer\u001b[0m\u001b[0;34m]\u001b[0m\u001b[0;34m\u001b[0m\u001b[0;34m\u001b[0m\u001b[0m\n",
      "\u001b[0;32m~/opt/anaconda3/lib/python3.8/site-packages/pandas/core/indexes/base.py\u001b[0m in \u001b[0;36mget_loc\u001b[0;34m(self, key, method, tolerance)\u001b[0m\n\u001b[1;32m   3080\u001b[0m                 \u001b[0;32mreturn\u001b[0m \u001b[0mself\u001b[0m\u001b[0;34m.\u001b[0m\u001b[0m_engine\u001b[0m\u001b[0;34m.\u001b[0m\u001b[0mget_loc\u001b[0m\u001b[0;34m(\u001b[0m\u001b[0mcasted_key\u001b[0m\u001b[0;34m)\u001b[0m\u001b[0;34m\u001b[0m\u001b[0;34m\u001b[0m\u001b[0m\n\u001b[1;32m   3081\u001b[0m             \u001b[0;32mexcept\u001b[0m \u001b[0mKeyError\u001b[0m \u001b[0;32mas\u001b[0m \u001b[0merr\u001b[0m\u001b[0;34m:\u001b[0m\u001b[0;34m\u001b[0m\u001b[0;34m\u001b[0m\u001b[0m\n\u001b[0;32m-> 3082\u001b[0;31m                 \u001b[0;32mraise\u001b[0m \u001b[0mKeyError\u001b[0m\u001b[0;34m(\u001b[0m\u001b[0mkey\u001b[0m\u001b[0;34m)\u001b[0m \u001b[0;32mfrom\u001b[0m \u001b[0merr\u001b[0m\u001b[0;34m\u001b[0m\u001b[0;34m\u001b[0m\u001b[0m\n\u001b[0m\u001b[1;32m   3083\u001b[0m \u001b[0;34m\u001b[0m\u001b[0m\n\u001b[1;32m   3084\u001b[0m         \u001b[0;32mif\u001b[0m \u001b[0mtolerance\u001b[0m \u001b[0;32mis\u001b[0m \u001b[0;32mnot\u001b[0m \u001b[0;32mNone\u001b[0m\u001b[0;34m:\u001b[0m\u001b[0;34m\u001b[0m\u001b[0;34m\u001b[0m\u001b[0m\n",
      "\u001b[0;31mKeyError\u001b[0m: 'generation'"
     ]
    }
   ],
   "source": [
    "g1 = age_group_df.loc[age_group_df[\"generation\"]==1,:]\n",
    "# dataframe.plot.scatter() method\n",
    "g1.plot.scatter('age_group', 'covid_19_deaths');\n",
    "#x =age_group_df\n",
    "#y = \n",
    "\n",
    "#plt.scatter(x, y)\n",
    "#plt.show()"
   ]
  },
  {
   "cell_type": "code",
   "execution_count": null,
   "metadata": {},
   "outputs": [],
   "source": [
    "#\n",
    "#covid_19_deaths_sum()"
   ]
  },
  {
   "cell_type": "code",
   "execution_count": null,
   "metadata": {},
   "outputs": [],
   "source": []
  },
  {
   "cell_type": "code",
   "execution_count": null,
   "metadata": {},
   "outputs": [],
   "source": [
    "#Mortality By state - Data horizontal bar graph\n",
    "state_df=new_df.groupby(by=[\"state\"]).sum()\n",
    "state_df.loc['New York'] += state_df.loc['New York City']\n",
    "state_df.drop(['New York City'], inplace=True)\n",
    "state_df = state_df.drop(\"year\",1)\n",
    "state_df = state_df.drop(\"month\",1)\n"
   ]
  },
  {
   "cell_type": "code",
   "execution_count": null,
   "metadata": {},
   "outputs": [],
   "source": [
    "state_df"
   ]
  },
  {
   "cell_type": "code",
   "execution_count": null,
   "metadata": {},
   "outputs": [],
   "source": [
    "sorted_state_df= state_df.sort_values(\"covid_19_deaths\",ascending=False)"
   ]
  },
  {
   "cell_type": "code",
   "execution_count": null,
   "metadata": {},
   "outputs": [],
   "source": [
    "# Mortlaity by State counts sorted in descending order\n",
    "sorted_state_df[\"covid_19_deaths\"]"
   ]
  },
  {
   "cell_type": "code",
   "execution_count": null,
   "metadata": {},
   "outputs": [],
   "source": [
    "#Mortality rate for Gender types for different age groups - Stacked bar graph\n",
    "\n",
    "gender_agegroup_df=new_df.groupby(by=[\"sex\",\"age_group\"]).sum()\n",
    "gender_agegroup_df = gender_agegroup_df.drop(\"year\",1)\n",
    "gender_agegroup_df = gender_agegroup_df.drop(\"month\",1)"
   ]
  },
  {
   "cell_type": "code",
   "execution_count": null,
   "metadata": {},
   "outputs": [],
   "source": [
    "gender_agegroup_df"
   ]
  },
  {
   "cell_type": "code",
   "execution_count": null,
   "metadata": {},
   "outputs": [],
   "source": [
    "#Mortality total count per year \n",
    "\n",
    "Year_group_df=new_df.groupby(by=[\"year\"]).sum()\n",
    "\n",
    "Year_group_df"
   ]
  },
  {
   "cell_type": "code",
   "execution_count": null,
   "metadata": {},
   "outputs": [],
   "source": [
    "#Mortality rate for Year for different age groups \n",
    "\n",
    "Year_Month_df=new_df.groupby(by=[\"year\",\"month\"]).sum()\n",
    "#gender_agegroup_df=new_df.groupby(by=[\"sex\",\"age_group\"]).sum()\n",
    "Year_Month_df\n"
   ]
  },
  {
   "cell_type": "code",
   "execution_count": null,
   "metadata": {},
   "outputs": [],
   "source": [
    "Year_Month_df[\"covid_19_deaths\"]"
   ]
  },
  {
   "cell_type": "code",
   "execution_count": null,
   "metadata": {},
   "outputs": [],
   "source": []
  },
  {
   "cell_type": "code",
   "execution_count": null,
   "metadata": {},
   "outputs": [],
   "source": []
  }
 ],
 "metadata": {
  "kernelspec": {
   "display_name": "Python 3",
   "language": "python",
   "name": "python3"
  },
  "language_info": {
   "codemirror_mode": {
    "name": "ipython",
    "version": 3
   },
   "file_extension": ".py",
   "mimetype": "text/x-python",
   "name": "python",
   "nbconvert_exporter": "python",
   "pygments_lexer": "ipython3",
   "version": "3.8.8"
  }
 },
 "nbformat": 4,
 "nbformat_minor": 2
}
